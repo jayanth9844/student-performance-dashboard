{
  "nbformat": 4,
  "nbformat_minor": 0,
  "metadata": {
    "colab": {
      "provenance": []
    },
    "kernelspec": {
      "name": "python3",
      "display_name": "Python 3"
    },
    "language_info": {
      "name": "python"
    }
  },
  "cells": [
    {
      "cell_type": "markdown",
      "source": [
        "\"\"\"\n",
        "Synthetic Student Dataset Generator\n",
        "-----------------------------------\n",
        "Generates a synthetic dataset for analyzing correlations between\n",
        "cognitive skills (comprehension, attention, focus, retention)\n",
        "and performance metrics (assessment_score, engagement_time).\n",
        "\n",
        "Outputs:\n",
        "- students.csv (default)\n",
        "- students.json (optional)\n",
        "\n",
        "Author: Jayanth Raj G (for Igebra.ai assignment)\n",
        "\"\"\""
      ],
      "metadata": {
        "id": "LChYnZtHN7Zf"
      }
    },
    {
      "cell_type": "code",
      "source": [
        "pip install faker"
      ],
      "metadata": {
        "colab": {
          "base_uri": "https://localhost:8080/"
        },
        "id": "BYKu3y8r62aQ",
        "outputId": "1ada924c-8fe0-44fa-feb9-8302a9ae8114"
      },
      "execution_count": 11,
      "outputs": [
        {
          "output_type": "stream",
          "name": "stdout",
          "text": [
            "Requirement already satisfied: faker in /usr/local/lib/python3.12/dist-packages (37.8.0)\n",
            "Requirement already satisfied: tzdata in /usr/local/lib/python3.12/dist-packages (from faker) (2025.2)\n"
          ]
        }
      ]
    },
    {
      "cell_type": "code",
      "source": [
        "import numpy as np\n",
        "import pandas as pd\n",
        "import random\n",
        "import json\n",
        "from faker import Faker\n",
        "from pathlib import Path"
      ],
      "metadata": {
        "id": "keyq8C1oOXNa"
      },
      "execution_count": 12,
      "outputs": []
    },
    {
      "cell_type": "markdown",
      "source": [
        "# Configuration"
      ],
      "metadata": {
        "id": "hU_MJLkxOKXZ"
      }
    },
    {
      "cell_type": "code",
      "source": [
        "NUM_STUDENTS = 1000       # Total students\n",
        "CLASSES = list(range(1, 11))  # Classes 1 to 10\n",
        "OUTPUT_DIR = Path(\"data\")     # Directory to save files\n",
        "SEED = 42                    # Reproducibility"
      ],
      "metadata": {
        "id": "FcRjPUxMOJ9p"
      },
      "execution_count": 13,
      "outputs": []
    },
    {
      "cell_type": "code",
      "source": [
        "faker = Faker()\n",
        "np.random.seed(SEED)\n",
        "random.seed(SEED)"
      ],
      "metadata": {
        "id": "EOCuoreY7Dmf"
      },
      "execution_count": 14,
      "outputs": []
    },
    {
      "cell_type": "markdown",
      "source": [
        "# Helper Functions\n"
      ],
      "metadata": {
        "id": "rdeQT2W4OStJ"
      }
    },
    {
      "cell_type": "code",
      "execution_count": 15,
      "metadata": {
        "id": "RRI4SXGANzlD"
      },
      "outputs": [],
      "source": [
        "def generate_student_id(idx: int) -> str:\n",
        "    \"\"\"Generate unique student ID.\"\"\"\n",
        "    return f\"S{idx:04d}\"\n",
        "\n",
        "def generate_cognitive_features():\n",
        "    \"\"\"\n",
        "    Generate cognitive skill scores (0–100) with some correlations:\n",
        "    - Comprehension, attention, focus, and retention are moderately correlated.\n",
        "    \"\"\"\n",
        "    # Base latent factor for cognitive ability\n",
        "    latent_factor = np.random.normal(loc=70, scale=10)\n",
        "    comprehension = np.clip(np.random.normal(latent_factor, 8), 30, 100)\n",
        "    attention = np.clip(np.random.normal(latent_factor, 8), 30, 100)\n",
        "    focus = np.clip(np.random.normal(latent_factor, 8), 30, 100)\n",
        "    retention = np.clip(np.random.normal(latent_factor, 8), 30, 100)\n",
        "    return comprehension, attention, focus, retention\n",
        "\n",
        "def generate_performance_metrics(comp, att, foc, ret):\n",
        "    \"\"\"\n",
        "    Correlate performance with cognitive skills.\n",
        "    assessment_score is influenced by all four.\n",
        "    engagement_time (minutes) correlates with attention and focus.\n",
        "    \"\"\"\n",
        "    # Weighted sum for assessment score\n",
        "    base_score = 0.3*comp + 0.25*att + 0.25*foc + 0.2*ret\n",
        "    noise = np.random.normal(0, 5)  # Add small randomness\n",
        "    assessment_score = np.clip(base_score + noise, 40, 100)\n",
        "\n",
        "    # Engagement time correlates with attention and focus\n",
        "    engagement_base = 0.5*att + 0.5*foc + np.random.normal(0, 10)\n",
        "    engagement_time = int(np.clip(engagement_base, 20, 180))  # minutes\n",
        "    return assessment_score, engagement_time\n",
        "\n",
        "def generate_dataset(num_students=NUM_STUDENTS):\n",
        "    \"\"\"Generate synthetic dataset as a pandas DataFrame.\"\"\"\n",
        "    records = []\n",
        "    for i in range(1, num_students + 1):\n",
        "        student_id = generate_student_id(i)\n",
        "        name = faker.name()\n",
        "        student_class = random.choice(CLASSES)\n",
        "\n",
        "        # Cognitive features\n",
        "        comp, att, foc, ret = generate_cognitive_features()\n",
        "\n",
        "        # Performance metrics\n",
        "        assessment_score, engagement_time = generate_performance_metrics(comp, att, foc, ret)\n",
        "\n",
        "        records.append({\n",
        "            \"student_id\": student_id,\n",
        "            \"name\": name,\n",
        "            \"class\": student_class,\n",
        "            \"comprehension\": round(comp, 2),\n",
        "            \"attention\": round(att, 2),\n",
        "            \"focus\": round(foc, 2),\n",
        "            \"retention\": round(ret, 2),\n",
        "            \"assessment_score\": round(assessment_score, 2),\n",
        "            \"engagement_time\": engagement_time\n",
        "        })\n",
        "\n",
        "    df = pd.DataFrame(records)\n",
        "    return df\n",
        "\n",
        "def save_dataset(df: pd.DataFrame, output_dir: Path):\n",
        "    \"\"\"Save dataset to CSV and JSON formats.\"\"\"\n",
        "    output_dir.mkdir(parents=True, exist_ok=True)\n",
        "    csv_path = output_dir / \"student_performance.csv\"\n",
        "    json_path = output_dir / \"student_performance.json\"\n",
        "    df.to_csv(csv_path, index=False)\n",
        "    df.to_json(json_path, orient=\"records\", indent=2)\n",
        "    print(f\"✅ Dataset saved to:\\n  - {csv_path}\\n  - {json_path}\")"
      ]
    },
    {
      "cell_type": "markdown",
      "source": [
        "\n",
        "# Main Execution\n"
      ],
      "metadata": {
        "id": "GMZBvcz4OFFI"
      }
    },
    {
      "cell_type": "code",
      "source": [
        "if __name__ == \"__main__\":\n",
        "    df_students = generate_dataset()\n",
        "    save_dataset(df_students, OUTPUT_DIR)\n",
        "    print(\"\\nPreview of dataset:\")\n",
        "    print(df_students.head())"
      ],
      "metadata": {
        "colab": {
          "base_uri": "https://localhost:8080/"
        },
        "id": "alWKYv-ZODXh",
        "outputId": "6223d17a-c13e-48f8-d4cd-58b67165a608"
      },
      "execution_count": 16,
      "outputs": [
        {
          "output_type": "stream",
          "name": "stdout",
          "text": [
            "✅ Dataset saved to:\n",
            "  - data/student_performance.csv\n",
            "  - data/student_performance.json\n",
            "\n",
            "Preview of dataset:\n",
            "  student_id             name  class  comprehension  attention  focus  \\\n",
            "0      S0001      Mason Adams      2          73.86      80.15  87.15   \n",
            "1      S0002      Thomas Hood      1          73.92      82.01  73.97   \n",
            "2      S0003     Matthew Diaz      5          48.25      44.65  55.26   \n",
            "3      S0004  Laura Carpenter      4          68.28      56.34  63.39   \n",
            "4      S0005     Justin Mccoy      4          61.66      59.18  78.81   \n",
            "\n",
            "   retention  assessment_score  engagement_time  \n",
            "0      73.09             77.43               99  \n",
            "1      73.95             77.17               58  \n",
            "2      45.49             41.49               64  \n",
            "3      68.63             58.39               63  \n",
            "4      63.89             60.48               77  \n"
          ]
        }
      ]
    },
    {
      "cell_type": "code",
      "source": [],
      "metadata": {
        "id": "0T8h70AwYsq0"
      },
      "execution_count": 16,
      "outputs": []
    }
  ]
}